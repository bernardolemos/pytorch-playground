{
 "cells": [
  {
   "cell_type": "markdown",
   "metadata": {},
   "source": [
    "\n",
    "# Training a model\n",
    "\n",
    "***Zeroing-out gradients***\n",
    "\n",
    "It is beneficial to zero out gradients when building a neural network.\n",
    "This is because by default, gradients are accumulated in buffers (i.e,\n",
    "not overwritten) whenever the `.backward()` method is called.\n",
    "\n",
    "To track `torch.Tensor` (that composes a neural net) operations set the `.requires_grad` attribute as `True`.This happens on subsequent backward passes. The gradient for this tensor will be accumulated into `.grad`\n",
    "attribute. The accumulation (or sum) of all the gradients is calculated\n",
    "when the `.backward()` method is called on the __loss tensor__.\n",
    "\n",
    "When starting a training loop, the gradients should be zeroed\n",
    "out so that tracking is performed correctly."
   ]
  },
  {
   "cell_type": "markdown",
   "metadata": {},
   "source": [
    "## Walk-through\n",
    "\n",
    "Training a Neural Net follows the common procedures:\n",
    "\n",
    "1. Load and normalize the dataset; in PyTorch we'll also need to set a `Dataloader` to iterate over data\n",
    "2. Build the neural networ Build the neural network\n",
    "3. Define the loss function\n",
    "4. Set the optimezer - zero-out the gradients while training the network"
   ]
  },
  {
   "cell_type": "code",
   "execution_count": null,
   "metadata": {},
   "outputs": [],
   "source": [
    "import torch\n",
    "\n",
    "import torch.nn as nn\n",
    "import torch.nn.functional as F\n",
    "\n",
    "import torch.optim as optim\n",
    "\n",
    "import torchvision\n",
    "# Transforms are common image transformations. They can be chained together using Compose.\n",
    "import torchvision.transforms as transforms"
   ]
  },
  {
   "cell_type": "markdown",
   "metadata": {},
   "source": [
    "## 1 - Load adn Normalize data"
   ]
  },
  {
   "cell_type": "code",
   "execution_count": null,
   "metadata": {
    "scrolled": false
   },
   "outputs": [],
   "source": [
    "transform = transforms.Compose([transforms.ToTensor(),\n",
    "                                transforms.Normalize((0.5, 0.5, 0.5), (0.5, 0.5, 0.5))\n",
    "                               ])\n",
    "# get train data\n",
    "trainset = torchvision.datasets.CIFAR10(root='./data',\n",
    "                                        train=True,\n",
    "                                        download=True,\n",
    "                                        transform=transform)\n",
    "# set DataLoader object for training\n",
    "trainloader = torch.utils.data.DataLoader(trainset,\n",
    "                                          batch_size=4,\n",
    "                                          shuffle=True,\n",
    "                                          num_workers=2)\n",
    "\n",
    "# get train data\n",
    "testset = torchvision.datasets.CIFAR10(root='./data',\n",
    "                                       train=False,\n",
    "                                       download=True,\n",
    "                                       transform=transform)\n",
    "# set data DataLoader object for test\n",
    "testloader = torch.utils.data.DataLoader(testset,\n",
    "                                         batch_size=4,\n",
    "                                         shuffle=False, # no need to shuffle data in test\n",
    "                                         num_workers=2)\n",
    "\n",
    "# set class tuple\n",
    "classes = ('plane', 'car', 'bird', 'cat', 'deer', 'dog', 'frog', 'horse', 'ship', 'truck')"
   ]
  },
  {
   "cell_type": "markdown",
   "metadata": {},
   "source": [
    "## 2 - Build the Neural Network"
   ]
  },
  {
   "cell_type": "markdown",
   "metadata": {},
   "source": [
    " A Neural Net is defined as a class that extends the `nn.Module` and implement\n",
    "1. the `__init__` method\n",
    "2. the `.forward` method"
   ]
  },
  {
   "cell_type": "code",
   "execution_count": null,
   "metadata": {},
   "outputs": [],
   "source": [
    "class Net(nn.Module):\n",
    "    # define neural net's architecture \n",
    "    def __init__(self):\n",
    "        super(Net, self).__init__()\n",
    "        self.conv1 = nn.Conv2d(3, 6, 5)\n",
    "        self.pool = nn.MaxPool2d(2, 2)\n",
    "        self.conv2 = nn.Conv2d(6, 16, 5)\n",
    "        self.fc1 = nn.Linear(16 * 5 * 5, 120)\n",
    "        self.fc2 = nn.Linear(120, 84)\n",
    "        self.fc3 = nn.Linear(84, 10)\n",
    "    \n",
    "    # define forward pass\n",
    "    def forward(self, x):\n",
    "        x = self.pool(F.relu(self.conv1(x)))\n",
    "        x = self.pool(F.relu(self.conv2(x)))\n",
    "        x = x.view(-1, 16 * 5 * 5)\n",
    "        x = F.relu(self.fc1(x))\n",
    "        x = F.relu(self.fc2(x))\n",
    "        x = self.fc3(x)\n",
    "        return x"
   ]
  },
  {
   "cell_type": "markdown",
   "metadata": {},
   "source": [
    "## 3 - Define  Loss function and Optimizer"
   ]
  },
  {
   "cell_type": "code",
   "execution_count": null,
   "metadata": {},
   "outputs": [],
   "source": [
    "net = Net() # init network\n",
    "criterion = nn.CrossEntropyLoss() # categorical cross-entropy loss for classification\n",
    "# Set Stochastic Gradient Descent\n",
    "optimizer = optim.SGD(net.parameters(), lr=0.001, momentum=0.9) # track model's .parameters()"
   ]
  },
  {
   "cell_type": "markdown",
   "metadata": {},
   "source": [
    "## 5 - Zero the gradients while training the network\n",
    "\n",
    "Iterate over the `DataLoader` (iterator), and feed the inputs to the network and optimize.\n",
    "\n",
    "Gradients are zeroed-out every iteration (a.k.a. mini-batch gradient descent)"
   ]
  },
  {
   "cell_type": "code",
   "execution_count": null,
   "metadata": {
    "scrolled": false
   },
   "outputs": [],
   "source": [
    "n_epochs = 2 # more epoch wil output better performance\n",
    "for epoch in range(n_epochs):  # loop over the dataset multiple times\n",
    "\n",
    "    running_loss = 0.0\n",
    "    for i, data in enumerate(trainloader, 0):\n",
    "\n",
    "        inputs, labels = data\n",
    "\n",
    "        # Zero-out gradients\n",
    "        optimizer.zero_grad() # can use model.zero_grad() alternatively if params in optimizer\n",
    "\n",
    "        # forward-pass\n",
    "        outputs = net(inputs)\n",
    "        # compute loss\n",
    "        loss = criterion(outputs, labels)\n",
    "        # backprop\n",
    "        loss.backward()\n",
    "        # optimize - apply gradient descent\n",
    "        optimizer.step()\n",
    "        \n",
    "        # accumulate loss\n",
    "        running_loss += loss.item()\n",
    "        if i % 2000 == 1999:    # print every 2000 mini-batches\n",
    "            print('(epoch: %d | batch: %5d) loss: %.3f' % (epoch + 1, i + 1, running_loss / 2000))\n",
    "            running_loss = 0.0"
   ]
  },
  {
   "cell_type": "markdown",
   "metadata": {},
   "source": [
    "# 6 - Inference (extra)\n",
    "\n",
    "To use a Neural Network and perform some inference we do apply only the forward-pass. So we  don't need to track the network's parameters, so we run the model inside a `torch.no_grad` context that sets the `.require_grad` attribute to `False`."
   ]
  },
  {
   "cell_type": "code",
   "execution_count": null,
   "metadata": {},
   "outputs": [],
   "source": [
    "correct = 0\n",
    "total = 0\n",
    "\n",
    "# Set require_grad to False\n",
    "with torch.no_grad():\n",
    "    for X, y in testloader:\n",
    "        output = net(X)\n",
    "        for idx, i in enumerate(output):\n",
    "            if torch.argmax(i) == y[idx]:\n",
    "                correct += 1\n",
    "            total += 1\n",
    "\n",
    "print(\"Accuracy: %.2f\" % (correct/total))"
   ]
  },
  {
   "cell_type": "code",
   "execution_count": null,
   "metadata": {},
   "outputs": [],
   "source": [
    "net"
   ]
  }
 ],
 "metadata": {
  "kernelspec": {
   "display_name": "Python 3",
   "language": "python",
   "name": "python3"
  },
  "language_info": {
   "codemirror_mode": {
    "name": "ipython",
    "version": 3
   },
   "file_extension": ".py",
   "mimetype": "text/x-python",
   "name": "python",
   "nbconvert_exporter": "python",
   "pygments_lexer": "ipython3",
   "version": "3.7.7"
  }
 },
 "nbformat": 4,
 "nbformat_minor": 1
}
